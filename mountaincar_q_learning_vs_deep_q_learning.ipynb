{
 "cells": [
  {
   "cell_type": "markdown",
   "metadata": {},
   "source": [
    "## Criando uma classe agente"
   ]
  },
  {
   "cell_type": "code",
   "execution_count": 1,
   "metadata": {},
   "outputs": [
    {
     "name": "stdout",
     "output_type": "stream",
     "text": [
      "State space:  Box([-1.2  -0.07], [0.6  0.07], (2,), float32)\n",
      "Action space:  Discrete(3)\n",
      "[-1.2  -0.07]\n",
      "[0.6  0.07]\n"
     ]
    }
   ],
   "source": [
    "import gymnasium as gym\n",
    "from torch import nn\n",
    "import torch\n",
    "import numpy as np\n",
    "from tqdm import tqdm\n",
    "from models import AgentQLearning, AgentSarsa, AgentBase, NeuralNetwork, AgentDQN\n",
    "\n",
    "# 1. Criar o ambiente\n",
    "env_name = \"MountainCar-v0\"\n",
    "env = gym.make(env_name)\n",
    "\n",
    "(state,_) = env.reset()\n",
    "\n",
    "print('State space: ', env.observation_space)\n",
    "print('Action space: ', env.action_space)\n",
    "\n",
    "print(env.observation_space.low)\n",
    "print(env.observation_space.high)"
   ]
  },
  {
   "cell_type": "code",
   "execution_count": 21,
   "metadata": {},
   "outputs": [],
   "source": [
    "def train(alpha, \n",
    "          gamma, \n",
    "          epsilon, \n",
    "          epsilon_min, \n",
    "          epsilon_decay, \n",
    "          episodes=500,\n",
    "          verbose=False,\n",
    "          algorithm='qlearning',\n",
    "          save=False,\n",
    "          path=None,\n",
    "          window=25,\n",
    "          env=None):\n",
    "    \n",
    "    if algorithm == 'qlearning':\n",
    "        agent = AgentQLearning(env=env,\n",
    "                    alpha=alpha, \n",
    "                    gamma=gamma, \n",
    "                    epsilon=epsilon, \n",
    "                    epsilon_min=epsilon_min, \n",
    "                    epsilon_decay=epsilon_decay)\n",
    "    elif algorithm == 'sarsa':\n",
    "        agent = AgentSarsa(env=env,\n",
    "                    alpha=alpha, \n",
    "                    gamma=gamma, \n",
    "                    epsilon=epsilon, \n",
    "                    epsilon_min=epsilon_min, \n",
    "                    epsilon_decay=epsilon_decay)\n",
    "    elif algorithm == 'deepqlearning':\n",
    "        action_size = env.action_space.n\n",
    "        observation_size = env.observation_space.shape[0]\n",
    "        fc1_dim = 512\n",
    "        fc2_dim = 512  \n",
    "        agent = AgentDQN(action_size=action_size,\n",
    "              observation_size=observation_size,\n",
    "              fc1_dim=fc1_dim,\n",
    "              fc2_dim=fc2_dim,\n",
    "              lr=4e-4,\n",
    "              gamma=gamma,\n",
    "              epsilon=epsilon,      \n",
    "              epsilon_min=epsilon_min, \n",
    "              epsilon_decay=epsilon_decay,\n",
    "              batch_size=64,\n",
    "              device='cuda',\n",
    "              env=env)\n",
    "    \n",
    "    total_rewards = []\n",
    "    mean_rewards = []\n",
    "    if algorithm != 'deepqlearning':\n",
    "        for episode in tqdm(range(episodes),\n",
    "                            disable=not verbose):\n",
    "            state, _ = env.reset()\n",
    "            done = False\n",
    "            total_reward = 0\n",
    "            step = 0\n",
    "            while not done:\n",
    "                action = agent.get_action(state)\n",
    "                next_state, reward, terminated, truncated, _ = env.step(action)\n",
    "                \n",
    "                done = terminated or (step >= 1_200)\n",
    "                agent.learn(state, action, reward, next_state)\n",
    "                total_reward += reward\n",
    "                state = next_state\n",
    "                step += 1\n",
    "                # print(action)\n",
    "                \n",
    "            agent.update_epsilon()\n",
    "            total_rewards.append(total_reward)\n",
    "            \n",
    "            if window:\n",
    "                if (episode+1) % window == 0:\n",
    "                    mean_reward = np.mean(total_rewards[-window:])\n",
    "                    mean_rewards.append(mean_reward)\n",
    "                    if verbose and (episode+1) % 100 == 0:\n",
    "                        print(f\"Episode {episode + 1}: {mean_reward}\")\n",
    "    else:\n",
    "        score_history = []\n",
    "        avg_score_history = []\n",
    "        for episode in tqdm(range(episodes),\n",
    "                            disable=not verbose):\n",
    "            obs = env.reset()[0]\n",
    "            episode_over = False\n",
    "            score = 0\n",
    "            step = 0\n",
    "            while not episode_over:\n",
    "                obs = torch.tensor(obs)\n",
    "                action = agent.get_action(obs)\n",
    "                next_obs, reward, terminated, truncated, info = env.step(action)\n",
    "                episode_over = terminated or (step >= 1_200)\n",
    "                agent.store_transition(obs, action, reward, next_obs, episode_over)\n",
    "                agent.learn()\n",
    "                next_obs = torch.tensor(next_obs)\n",
    "                score += reward\n",
    "                obs = next_obs\n",
    "                step += 1\n",
    "                \n",
    "            score_history.append(score)\n",
    "            \n",
    "            if window:\n",
    "                if episode % window == 0:\n",
    "                    avg_score = np.mean(score_history[-window:])\n",
    "                    avg_score_history.append(avg_score)\n",
    "                    print('episode: ', episode,'score: %.1f' % score,\n",
    "                        'average score %.1f' % avg_score)\n",
    "        mean_rewards = avg_score_history\n",
    "                \n",
    "    if save:\n",
    "        if algorithm == 'qlearning':\n",
    "            if path is None:\n",
    "                path = f\"./saved_models/model_{algorithm}_{env.env.env.spec.name}.npy\"\n",
    "            agent.save(path)\n",
    "        if algorithm == 'deepqlearning':\n",
    "            if path is None:\n",
    "                path = f\"./saved_models/model_{algorithm}_{env.env.env.spec.name}.pth\"\n",
    "            policy = agent.policy\n",
    "            torch.save(policy.state_dict(), path)\n",
    "    \n",
    "    return mean_rewards"
   ]
  },
  {
   "cell_type": "code",
   "execution_count": null,
   "metadata": {},
   "outputs": [
    {
     "name": "stdout",
     "output_type": "stream",
     "text": [
      "[19 15]\n"
     ]
    },
    {
     "name": "stderr",
     "output_type": "stream",
     "text": [
      "c:\\Users\\gabri\\anaconda3\\envs\\rl\\lib\\site-packages\\torch\\nn\\init.py:511: UserWarning: Initializing zero-element tensors is a no-op\n",
      "  warnings.warn(\"Initializing zero-element tensors is a no-op\")\n"
     ]
    }
   ],
   "source": [
    "action_size = env.action_space.n\n",
    "observation_size = env.observation_space.shape[0]\n",
    "fc1_dim = 512\n",
    "fc2_dim = 512  \n",
    "\n",
    "agent = AgentDQN(action_size=0,\n",
    "              observation_size=0,\n",
    "              fc1_dim=fc1_dim,\n",
    "              fc2_dim=fc2_dim,\n",
    "              lr=4e-4,\n",
    "              gamma=0.99,\n",
    "              epsilon=1.0,      \n",
    "              epsilon_min=0.01, \n",
    "              epsilon_decay=0.999,\n",
    "              batch_size=64,\n",
    "              device='cuda',\n",
    "              env=env)\n",
    "\n",
    "policy = agent.policy\n",
    "torch.save(policy.state_dict(), 'policy.pth')"
   ]
  },
  {
   "cell_type": "markdown",
   "metadata": {},
   "source": [
    "### Variando algoritmos"
   ]
  },
  {
   "cell_type": "code",
   "execution_count": 26,
   "metadata": {},
   "outputs": [
    {
     "name": "stdout",
     "output_type": "stream",
     "text": [
      "Training with algorithm = qlearning\n"
     ]
    },
    {
     "name": "stderr",
     "output_type": "stream",
     "text": [
      " 14%|█▎        | 103/750 [00:05<00:32, 19.75it/s]"
     ]
    },
    {
     "name": "stdout",
     "output_type": "stream",
     "text": [
      "Episode 100: -1200.12\n"
     ]
    },
    {
     "name": "stderr",
     "output_type": "stream",
     "text": [
      " 27%|██▋       | 204/750 [00:10<00:25, 21.16it/s]"
     ]
    },
    {
     "name": "stdout",
     "output_type": "stream",
     "text": [
      "Episode 200: -1088.48\n"
     ]
    },
    {
     "name": "stderr",
     "output_type": "stream",
     "text": [
      " 41%|████      | 305/750 [00:14<00:20, 21.91it/s]"
     ]
    },
    {
     "name": "stdout",
     "output_type": "stream",
     "text": [
      "Episode 300: -1005.32\n"
     ]
    },
    {
     "name": "stderr",
     "output_type": "stream",
     "text": [
      " 54%|█████▍    | 406/750 [00:18<00:10, 31.35it/s]"
     ]
    },
    {
     "name": "stdout",
     "output_type": "stream",
     "text": [
      "Episode 400: -708.12\n"
     ]
    },
    {
     "name": "stderr",
     "output_type": "stream",
     "text": [
      " 67%|██████▋   | 506/750 [00:20<00:05, 41.77it/s]"
     ]
    },
    {
     "name": "stdout",
     "output_type": "stream",
     "text": [
      "Episode 500: -515.32\n"
     ]
    },
    {
     "name": "stderr",
     "output_type": "stream",
     "text": [
      " 81%|████████  | 607/750 [00:23<00:03, 38.94it/s]"
     ]
    },
    {
     "name": "stdout",
     "output_type": "stream",
     "text": [
      "Episode 600: -572.68\n"
     ]
    },
    {
     "name": "stderr",
     "output_type": "stream",
     "text": [
      " 94%|█████████▍| 708/750 [00:25<00:00, 48.45it/s]"
     ]
    },
    {
     "name": "stdout",
     "output_type": "stream",
     "text": [
      "Episode 700: -521.36\n"
     ]
    },
    {
     "name": "stderr",
     "output_type": "stream",
     "text": [
      "100%|██████████| 750/750 [00:26<00:00, 28.09it/s]\n",
      " 14%|█▎        | 103/750 [00:05<00:33, 19.58it/s]"
     ]
    },
    {
     "name": "stdout",
     "output_type": "stream",
     "text": [
      "Episode 100: -1201.0\n"
     ]
    },
    {
     "name": "stderr",
     "output_type": "stream",
     "text": [
      " 27%|██▋       | 203/750 [00:10<00:29, 18.34it/s]"
     ]
    },
    {
     "name": "stdout",
     "output_type": "stream",
     "text": [
      "Episode 200: -1155.52\n"
     ]
    },
    {
     "name": "stderr",
     "output_type": "stream",
     "text": [
      " 41%|████      | 304/750 [00:14<00:19, 22.76it/s]"
     ]
    },
    {
     "name": "stdout",
     "output_type": "stream",
     "text": [
      "Episode 300: -970.6\n"
     ]
    },
    {
     "name": "stderr",
     "output_type": "stream",
     "text": [
      " 54%|█████▍    | 407/750 [00:18<00:12, 28.27it/s]"
     ]
    },
    {
     "name": "stdout",
     "output_type": "stream",
     "text": [
      "Episode 400: -627.24\n"
     ]
    },
    {
     "name": "stderr",
     "output_type": "stream",
     "text": [
      " 67%|██████▋   | 504/750 [00:21<00:08, 30.51it/s]"
     ]
    },
    {
     "name": "stdout",
     "output_type": "stream",
     "text": [
      "Episode 500: -626.64\n"
     ]
    },
    {
     "name": "stderr",
     "output_type": "stream",
     "text": [
      " 81%|████████  | 608/750 [00:23<00:02, 54.40it/s]"
     ]
    },
    {
     "name": "stdout",
     "output_type": "stream",
     "text": [
      "Episode 600: -431.12\n"
     ]
    },
    {
     "name": "stderr",
     "output_type": "stream",
     "text": [
      " 96%|█████████▌| 720/750 [00:25<00:00, 57.20it/s]"
     ]
    },
    {
     "name": "stdout",
     "output_type": "stream",
     "text": [
      "Episode 700: -332.36\n"
     ]
    },
    {
     "name": "stderr",
     "output_type": "stream",
     "text": [
      "100%|██████████| 750/750 [00:26<00:00, 28.61it/s]\n",
      " 14%|█▍        | 106/750 [00:05<00:33, 19.44it/s]"
     ]
    },
    {
     "name": "stdout",
     "output_type": "stream",
     "text": [
      "Episode 100: -1185.92\n"
     ]
    },
    {
     "name": "stderr",
     "output_type": "stream",
     "text": [
      " 27%|██▋       | 204/750 [00:10<00:26, 20.23it/s]"
     ]
    },
    {
     "name": "stdout",
     "output_type": "stream",
     "text": [
      "Episode 200: -1158.44\n"
     ]
    },
    {
     "name": "stderr",
     "output_type": "stream",
     "text": [
      " 41%|████      | 305/750 [00:14<00:14, 30.53it/s]"
     ]
    },
    {
     "name": "stdout",
     "output_type": "stream",
     "text": [
      "Episode 300: -832.6\n"
     ]
    },
    {
     "name": "stderr",
     "output_type": "stream",
     "text": [
      " 54%|█████▍    | 404/750 [00:18<00:11, 30.08it/s]"
     ]
    },
    {
     "name": "stdout",
     "output_type": "stream",
     "text": [
      "Episode 400: -740.84\n"
     ]
    },
    {
     "name": "stderr",
     "output_type": "stream",
     "text": [
      " 68%|██████▊   | 507/750 [00:21<00:06, 37.39it/s]"
     ]
    },
    {
     "name": "stdout",
     "output_type": "stream",
     "text": [
      "Episode 500: -645.04\n"
     ]
    },
    {
     "name": "stderr",
     "output_type": "stream",
     "text": [
      " 81%|████████  | 607/750 [00:24<00:04, 33.47it/s]"
     ]
    },
    {
     "name": "stdout",
     "output_type": "stream",
     "text": [
      "Episode 600: -626.2\n"
     ]
    },
    {
     "name": "stderr",
     "output_type": "stream",
     "text": [
      " 94%|█████████▍| 705/750 [00:26<00:00, 50.33it/s]"
     ]
    },
    {
     "name": "stdout",
     "output_type": "stream",
     "text": [
      "Episode 700: -435.28\n"
     ]
    },
    {
     "name": "stderr",
     "output_type": "stream",
     "text": [
      "100%|██████████| 750/750 [00:27<00:00, 27.58it/s]\n",
      " 14%|█▍        | 105/750 [00:05<00:30, 21.09it/s]"
     ]
    },
    {
     "name": "stdout",
     "output_type": "stream",
     "text": [
      "Episode 100: -1185.64\n"
     ]
    },
    {
     "name": "stderr",
     "output_type": "stream",
     "text": [
      " 27%|██▋       | 204/750 [00:09<00:26, 20.66it/s]"
     ]
    },
    {
     "name": "stdout",
     "output_type": "stream",
     "text": [
      "Episode 200: -1157.28\n"
     ]
    },
    {
     "name": "stderr",
     "output_type": "stream",
     "text": [
      " 41%|████      | 306/750 [00:14<00:16, 27.01it/s]"
     ]
    },
    {
     "name": "stdout",
     "output_type": "stream",
     "text": [
      "Episode 300: -896.08\n"
     ]
    },
    {
     "name": "stderr",
     "output_type": "stream",
     "text": [
      " 54%|█████▍    | 406/750 [00:17<00:12, 28.17it/s]"
     ]
    },
    {
     "name": "stdout",
     "output_type": "stream",
     "text": [
      "Episode 400: -725.68\n"
     ]
    },
    {
     "name": "stderr",
     "output_type": "stream",
     "text": [
      " 67%|██████▋   | 505/750 [00:20<00:06, 38.73it/s]"
     ]
    },
    {
     "name": "stdout",
     "output_type": "stream",
     "text": [
      "Episode 500: -578.44\n"
     ]
    },
    {
     "name": "stderr",
     "output_type": "stream",
     "text": [
      " 81%|████████▏ | 611/750 [00:23<00:02, 49.04it/s]"
     ]
    },
    {
     "name": "stdout",
     "output_type": "stream",
     "text": [
      "Episode 600: -528.36\n"
     ]
    },
    {
     "name": "stderr",
     "output_type": "stream",
     "text": [
      " 94%|█████████▍| 708/750 [00:25<00:00, 55.32it/s]"
     ]
    },
    {
     "name": "stdout",
     "output_type": "stream",
     "text": [
      "Episode 700: -421.96\n"
     ]
    },
    {
     "name": "stderr",
     "output_type": "stream",
     "text": [
      "100%|██████████| 750/750 [00:26<00:00, 28.83it/s]\n",
      " 14%|█▎        | 103/750 [00:05<00:31, 20.82it/s]"
     ]
    },
    {
     "name": "stdout",
     "output_type": "stream",
     "text": [
      "Episode 100: -1201.0\n"
     ]
    },
    {
     "name": "stderr",
     "output_type": "stream",
     "text": [
      " 27%|██▋       | 202/750 [00:09<00:23, 23.49it/s]"
     ]
    },
    {
     "name": "stdout",
     "output_type": "stream",
     "text": [
      "Episode 200: -1092.36\n"
     ]
    },
    {
     "name": "stderr",
     "output_type": "stream",
     "text": [
      " 41%|████      | 304/750 [00:14<00:19, 23.16it/s]"
     ]
    },
    {
     "name": "stdout",
     "output_type": "stream",
     "text": [
      "Episode 300: -1069.64\n"
     ]
    },
    {
     "name": "stderr",
     "output_type": "stream",
     "text": [
      " 55%|█████▍    | 409/750 [00:17<00:08, 40.93it/s]"
     ]
    },
    {
     "name": "stdout",
     "output_type": "stream",
     "text": [
      "Episode 400: -560.64\n"
     ]
    },
    {
     "name": "stderr",
     "output_type": "stream",
     "text": [
      " 68%|██████▊   | 508/750 [00:20<00:05, 44.37it/s]"
     ]
    },
    {
     "name": "stdout",
     "output_type": "stream",
     "text": [
      "Episode 500: -509.4\n"
     ]
    },
    {
     "name": "stderr",
     "output_type": "stream",
     "text": [
      " 81%|████████▏ | 611/750 [00:23<00:03, 44.91it/s]"
     ]
    },
    {
     "name": "stdout",
     "output_type": "stream",
     "text": [
      "Episode 600: -568.16\n"
     ]
    },
    {
     "name": "stderr",
     "output_type": "stream",
     "text": [
      " 95%|█████████▍| 709/750 [00:25<00:00, 50.59it/s]"
     ]
    },
    {
     "name": "stdout",
     "output_type": "stream",
     "text": [
      "Episode 700: -471.0\n"
     ]
    },
    {
     "name": "stderr",
     "output_type": "stream",
     "text": [
      "100%|██████████| 750/750 [00:26<00:00, 28.80it/s]\n"
     ]
    },
    {
     "name": "stdout",
     "output_type": "stream",
     "text": [
      "Q-table salva em ./saved_models/model_qlearning_MountainCar.npy\n",
      "Mean reward: -442.14400000000006\n",
      "Std reward: 91.39569740419951\n",
      "-----------------------------------\n",
      "Training with algorithm = deepqlearning\n",
      "[19 15]\n"
     ]
    },
    {
     "name": "stderr",
     "output_type": "stream",
     "text": [
      "  0%|          | 0/750 [00:00<?, ?it/s]C:\\Users\\gabri\\AppData\\Local\\Temp\\ipykernel_35820\\748808526.py:85: UserWarning: To copy construct from a tensor, it is recommended to use sourceTensor.clone().detach() or sourceTensor.clone().detach().requires_grad_(True), rather than torch.tensor(sourceTensor).\n",
      "  obs = torch.tensor(obs)\n",
      "  0%|          | 1/750 [00:03<47:54,  3.84s/it]"
     ]
    },
    {
     "name": "stdout",
     "output_type": "stream",
     "text": [
      "episode:  0 score: -1201.0 average score -1201.0\n"
     ]
    },
    {
     "name": "stderr",
     "output_type": "stream",
     "text": [
      "  3%|▎         | 26/750 [01:48<50:17,  4.17s/it]"
     ]
    },
    {
     "name": "stdout",
     "output_type": "stream",
     "text": [
      "episode:  25 score: -1201.0 average score -1201.0\n"
     ]
    },
    {
     "name": "stderr",
     "output_type": "stream",
     "text": [
      "  7%|▋         | 51/750 [02:41<08:41,  1.34it/s]"
     ]
    },
    {
     "name": "stdout",
     "output_type": "stream",
     "text": [
      "episode:  50 score: -223.0 average score -616.6\n"
     ]
    },
    {
     "name": "stderr",
     "output_type": "stream",
     "text": [
      " 10%|█         | 76/750 [02:53<05:14,  2.14it/s]"
     ]
    },
    {
     "name": "stdout",
     "output_type": "stream",
     "text": [
      "episode:  75 score: -139.0 average score -140.6\n"
     ]
    },
    {
     "name": "stderr",
     "output_type": "stream",
     "text": [
      " 13%|█▎        | 101/750 [03:04<04:44,  2.28it/s]"
     ]
    },
    {
     "name": "stdout",
     "output_type": "stream",
     "text": [
      "episode:  100 score: -143.0 average score -132.9\n"
     ]
    },
    {
     "name": "stderr",
     "output_type": "stream",
     "text": [
      " 17%|█▋        | 126/750 [03:16<04:34,  2.27it/s]"
     ]
    },
    {
     "name": "stdout",
     "output_type": "stream",
     "text": [
      "episode:  125 score: -95.0 average score -136.5\n"
     ]
    },
    {
     "name": "stderr",
     "output_type": "stream",
     "text": [
      " 20%|██        | 151/750 [03:28<04:34,  2.18it/s]"
     ]
    },
    {
     "name": "stdout",
     "output_type": "stream",
     "text": [
      "episode:  150 score: -155.0 average score -135.6\n"
     ]
    },
    {
     "name": "stderr",
     "output_type": "stream",
     "text": [
      " 23%|██▎       | 176/750 [03:39<03:49,  2.50it/s]"
     ]
    },
    {
     "name": "stdout",
     "output_type": "stream",
     "text": [
      "episode:  175 score: -109.0 average score -126.7\n"
     ]
    },
    {
     "name": "stderr",
     "output_type": "stream",
     "text": [
      " 27%|██▋       | 201/750 [03:50<04:31,  2.02it/s]"
     ]
    },
    {
     "name": "stdout",
     "output_type": "stream",
     "text": [
      "episode:  200 score: -147.0 average score -130.7\n"
     ]
    },
    {
     "name": "stderr",
     "output_type": "stream",
     "text": [
      " 30%|███       | 226/750 [04:02<03:34,  2.44it/s]"
     ]
    },
    {
     "name": "stdout",
     "output_type": "stream",
     "text": [
      "episode:  225 score: -90.0 average score -129.8\n"
     ]
    },
    {
     "name": "stderr",
     "output_type": "stream",
     "text": [
      " 33%|███▎      | 251/750 [04:13<04:00,  2.08it/s]"
     ]
    },
    {
     "name": "stdout",
     "output_type": "stream",
     "text": [
      "episode:  250 score: -147.0 average score -130.8\n"
     ]
    },
    {
     "name": "stderr",
     "output_type": "stream",
     "text": [
      " 37%|███▋      | 276/750 [04:24<04:07,  1.92it/s]"
     ]
    },
    {
     "name": "stdout",
     "output_type": "stream",
     "text": [
      "episode:  275 score: -162.0 average score -120.0\n"
     ]
    },
    {
     "name": "stderr",
     "output_type": "stream",
     "text": [
      " 40%|████      | 301/750 [04:37<03:17,  2.27it/s]"
     ]
    },
    {
     "name": "stdout",
     "output_type": "stream",
     "text": [
      "episode:  300 score: -107.0 average score -142.6\n"
     ]
    },
    {
     "name": "stderr",
     "output_type": "stream",
     "text": [
      " 43%|████▎     | 326/750 [04:48<03:07,  2.26it/s]"
     ]
    },
    {
     "name": "stdout",
     "output_type": "stream",
     "text": [
      "episode:  325 score: -91.0 average score -128.8\n"
     ]
    },
    {
     "name": "stderr",
     "output_type": "stream",
     "text": [
      " 47%|████▋     | 351/750 [04:59<02:40,  2.49it/s]"
     ]
    },
    {
     "name": "stdout",
     "output_type": "stream",
     "text": [
      "episode:  350 score: -108.0 average score -117.7\n"
     ]
    },
    {
     "name": "stderr",
     "output_type": "stream",
     "text": [
      " 50%|█████     | 376/750 [05:10<03:13,  1.93it/s]"
     ]
    },
    {
     "name": "stdout",
     "output_type": "stream",
     "text": [
      "episode:  375 score: -150.0 average score -122.3\n"
     ]
    },
    {
     "name": "stderr",
     "output_type": "stream",
     "text": [
      " 53%|█████▎    | 401/750 [05:21<02:12,  2.64it/s]"
     ]
    },
    {
     "name": "stdout",
     "output_type": "stream",
     "text": [
      "episode:  400 score: -92.0 average score -118.5\n"
     ]
    },
    {
     "name": "stderr",
     "output_type": "stream",
     "text": [
      " 57%|█████▋    | 426/750 [05:31<02:20,  2.30it/s]"
     ]
    },
    {
     "name": "stdout",
     "output_type": "stream",
     "text": [
      "episode:  425 score: -123.0 average score -119.5\n"
     ]
    },
    {
     "name": "stderr",
     "output_type": "stream",
     "text": [
      " 60%|██████    | 451/750 [05:41<02:09,  2.30it/s]"
     ]
    },
    {
     "name": "stdout",
     "output_type": "stream",
     "text": [
      "episode:  450 score: -139.0 average score -116.4\n"
     ]
    },
    {
     "name": "stderr",
     "output_type": "stream",
     "text": [
      " 63%|██████▎   | 476/750 [05:51<01:36,  2.84it/s]"
     ]
    },
    {
     "name": "stdout",
     "output_type": "stream",
     "text": [
      "episode:  475 score: -106.0 average score -103.8\n"
     ]
    },
    {
     "name": "stderr",
     "output_type": "stream",
     "text": [
      " 67%|██████▋   | 501/750 [06:01<01:44,  2.38it/s]"
     ]
    },
    {
     "name": "stdout",
     "output_type": "stream",
     "text": [
      "episode:  500 score: -112.0 average score -117.9\n"
     ]
    },
    {
     "name": "stderr",
     "output_type": "stream",
     "text": [
      " 70%|███████   | 526/750 [06:17<02:08,  1.75it/s]"
     ]
    },
    {
     "name": "stdout",
     "output_type": "stream",
     "text": [
      "episode:  525 score: -95.0 average score -125.6\n"
     ]
    },
    {
     "name": "stderr",
     "output_type": "stream",
     "text": [
      " 73%|███████▎  | 551/750 [06:32<02:17,  1.45it/s]"
     ]
    },
    {
     "name": "stdout",
     "output_type": "stream",
     "text": [
      "episode:  550 score: -180.0 average score -120.8\n"
     ]
    },
    {
     "name": "stderr",
     "output_type": "stream",
     "text": [
      " 77%|███████▋  | 576/750 [06:48<01:36,  1.79it/s]"
     ]
    },
    {
     "name": "stdout",
     "output_type": "stream",
     "text": [
      "episode:  575 score: -118.0 average score -129.4\n"
     ]
    },
    {
     "name": "stderr",
     "output_type": "stream",
     "text": [
      " 80%|████████  | 601/750 [07:04<01:34,  1.58it/s]"
     ]
    },
    {
     "name": "stdout",
     "output_type": "stream",
     "text": [
      "episode:  600 score: -119.0 average score -121.0\n"
     ]
    },
    {
     "name": "stderr",
     "output_type": "stream",
     "text": [
      " 83%|████████▎ | 626/750 [07:17<01:03,  1.97it/s]"
     ]
    },
    {
     "name": "stdout",
     "output_type": "stream",
     "text": [
      "episode:  625 score: -108.0 average score -110.2\n"
     ]
    },
    {
     "name": "stderr",
     "output_type": "stream",
     "text": [
      " 87%|████████▋ | 651/750 [07:31<00:45,  2.17it/s]"
     ]
    },
    {
     "name": "stdout",
     "output_type": "stream",
     "text": [
      "episode:  650 score: -104.0 average score -107.8\n"
     ]
    },
    {
     "name": "stderr",
     "output_type": "stream",
     "text": [
      " 90%|█████████ | 676/750 [07:45<00:54,  1.36it/s]"
     ]
    },
    {
     "name": "stdout",
     "output_type": "stream",
     "text": [
      "episode:  675 score: -165.0 average score -114.0\n"
     ]
    },
    {
     "name": "stderr",
     "output_type": "stream",
     "text": [
      " 93%|█████████▎| 701/750 [08:00<00:31,  1.58it/s]"
     ]
    },
    {
     "name": "stdout",
     "output_type": "stream",
     "text": [
      "episode:  700 score: -87.0 average score -119.6\n"
     ]
    },
    {
     "name": "stderr",
     "output_type": "stream",
     "text": [
      " 97%|█████████▋| 726/750 [08:16<00:13,  1.78it/s]"
     ]
    },
    {
     "name": "stdout",
     "output_type": "stream",
     "text": [
      "episode:  725 score: -107.0 average score -133.2\n"
     ]
    },
    {
     "name": "stderr",
     "output_type": "stream",
     "text": [
      "100%|██████████| 750/750 [08:32<00:00,  1.46it/s]\n"
     ]
    },
    {
     "name": "stdout",
     "output_type": "stream",
     "text": [
      "[19 15]\n"
     ]
    },
    {
     "name": "stderr",
     "output_type": "stream",
     "text": [
      "  0%|          | 1/750 [00:04<1:01:18,  4.91s/it]"
     ]
    },
    {
     "name": "stdout",
     "output_type": "stream",
     "text": [
      "episode:  0 score: -1201.0 average score -1201.0\n"
     ]
    },
    {
     "name": "stderr",
     "output_type": "stream",
     "text": [
      "  3%|▎         | 26/750 [01:58<30:47,  2.55s/it]  "
     ]
    },
    {
     "name": "stdout",
     "output_type": "stream",
     "text": [
      "episode:  25 score: -285.0 average score -925.4\n"
     ]
    },
    {
     "name": "stderr",
     "output_type": "stream",
     "text": [
      "  7%|▋         | 51/750 [02:22<09:23,  1.24it/s]"
     ]
    },
    {
     "name": "stdout",
     "output_type": "stream",
     "text": [
      "episode:  50 score: -180.0 average score -176.3\n"
     ]
    },
    {
     "name": "stderr",
     "output_type": "stream",
     "text": [
      " 10%|█         | 76/750 [02:39<07:13,  1.55it/s]"
     ]
    },
    {
     "name": "stdout",
     "output_type": "stream",
     "text": [
      "episode:  75 score: -101.0 average score -130.8\n"
     ]
    },
    {
     "name": "stderr",
     "output_type": "stream",
     "text": [
      " 13%|█▎        | 101/750 [02:55<07:33,  1.43it/s]"
     ]
    },
    {
     "name": "stdout",
     "output_type": "stream",
     "text": [
      "episode:  100 score: -116.0 average score -125.7\n"
     ]
    },
    {
     "name": "stderr",
     "output_type": "stream",
     "text": [
      " 17%|█▋        | 126/750 [03:14<07:26,  1.40it/s]"
     ]
    },
    {
     "name": "stdout",
     "output_type": "stream",
     "text": [
      "episode:  125 score: -118.0 average score -147.5\n"
     ]
    },
    {
     "name": "stderr",
     "output_type": "stream",
     "text": [
      " 20%|██        | 151/750 [03:32<06:00,  1.66it/s]"
     ]
    },
    {
     "name": "stdout",
     "output_type": "stream",
     "text": [
      "episode:  150 score: -180.0 average score -151.5\n"
     ]
    },
    {
     "name": "stderr",
     "output_type": "stream",
     "text": [
      " 23%|██▎       | 176/750 [03:52<06:58,  1.37it/s]"
     ]
    },
    {
     "name": "stdout",
     "output_type": "stream",
     "text": [
      "episode:  175 score: -149.0 average score -145.9\n"
     ]
    },
    {
     "name": "stderr",
     "output_type": "stream",
     "text": [
      " 27%|██▋       | 201/750 [04:11<06:48,  1.34it/s]"
     ]
    },
    {
     "name": "stdout",
     "output_type": "stream",
     "text": [
      "episode:  200 score: -135.0 average score -146.1\n"
     ]
    },
    {
     "name": "stderr",
     "output_type": "stream",
     "text": [
      " 30%|███       | 226/750 [04:28<06:08,  1.42it/s]"
     ]
    },
    {
     "name": "stdout",
     "output_type": "stream",
     "text": [
      "episode:  225 score: -184.0 average score -140.1\n"
     ]
    },
    {
     "name": "stderr",
     "output_type": "stream",
     "text": [
      " 33%|███▎      | 251/750 [04:44<04:56,  1.68it/s]"
     ]
    },
    {
     "name": "stdout",
     "output_type": "stream",
     "text": [
      "episode:  250 score: -106.0 average score -128.5\n"
     ]
    },
    {
     "name": "stderr",
     "output_type": "stream",
     "text": [
      " 37%|███▋      | 276/750 [05:02<04:37,  1.71it/s]"
     ]
    },
    {
     "name": "stdout",
     "output_type": "stream",
     "text": [
      "episode:  275 score: -93.0 average score -132.9\n"
     ]
    },
    {
     "name": "stderr",
     "output_type": "stream",
     "text": [
      " 40%|████      | 301/750 [05:19<05:22,  1.39it/s]"
     ]
    },
    {
     "name": "stdout",
     "output_type": "stream",
     "text": [
      "episode:  300 score: -99.0 average score -132.0\n"
     ]
    },
    {
     "name": "stderr",
     "output_type": "stream",
     "text": [
      " 43%|████▎     | 326/750 [05:35<04:14,  1.66it/s]"
     ]
    },
    {
     "name": "stdout",
     "output_type": "stream",
     "text": [
      "episode:  325 score: -154.0 average score -125.9\n"
     ]
    },
    {
     "name": "stderr",
     "output_type": "stream",
     "text": [
      " 47%|████▋     | 351/750 [05:52<03:55,  1.69it/s]"
     ]
    },
    {
     "name": "stdout",
     "output_type": "stream",
     "text": [
      "episode:  350 score: -109.0 average score -126.6\n"
     ]
    },
    {
     "name": "stderr",
     "output_type": "stream",
     "text": [
      " 50%|█████     | 376/750 [06:08<03:31,  1.77it/s]"
     ]
    },
    {
     "name": "stdout",
     "output_type": "stream",
     "text": [
      "episode:  375 score: -99.0 average score -125.5\n"
     ]
    },
    {
     "name": "stderr",
     "output_type": "stream",
     "text": [
      " 53%|█████▎    | 401/750 [06:25<03:22,  1.72it/s]"
     ]
    },
    {
     "name": "stdout",
     "output_type": "stream",
     "text": [
      "episode:  400 score: -98.0 average score -131.2\n"
     ]
    },
    {
     "name": "stderr",
     "output_type": "stream",
     "text": [
      " 57%|█████▋    | 426/750 [06:41<03:48,  1.42it/s]"
     ]
    },
    {
     "name": "stdout",
     "output_type": "stream",
     "text": [
      "episode:  425 score: -117.0 average score -133.4\n"
     ]
    },
    {
     "name": "stderr",
     "output_type": "stream",
     "text": [
      " 60%|██████    | 451/750 [06:58<03:18,  1.51it/s]"
     ]
    },
    {
     "name": "stdout",
     "output_type": "stream",
     "text": [
      "episode:  450 score: -156.0 average score -127.1\n"
     ]
    },
    {
     "name": "stderr",
     "output_type": "stream",
     "text": [
      " 63%|██████▎   | 476/750 [07:13<02:35,  1.76it/s]"
     ]
    },
    {
     "name": "stdout",
     "output_type": "stream",
     "text": [
      "episode:  475 score: -144.0 average score -117.5\n"
     ]
    },
    {
     "name": "stderr",
     "output_type": "stream",
     "text": [
      " 67%|██████▋   | 501/750 [07:28<02:27,  1.69it/s]"
     ]
    },
    {
     "name": "stdout",
     "output_type": "stream",
     "text": [
      "episode:  500 score: -127.0 average score -128.8\n"
     ]
    },
    {
     "name": "stderr",
     "output_type": "stream",
     "text": [
      " 70%|███████   | 526/750 [07:44<02:01,  1.84it/s]"
     ]
    },
    {
     "name": "stdout",
     "output_type": "stream",
     "text": [
      "episode:  525 score: -112.0 average score -113.0\n"
     ]
    },
    {
     "name": "stderr",
     "output_type": "stream",
     "text": [
      " 73%|███████▎  | 551/750 [08:00<02:46,  1.19it/s]"
     ]
    },
    {
     "name": "stdout",
     "output_type": "stream",
     "text": [
      "episode:  550 score: -175.0 average score -129.8\n"
     ]
    },
    {
     "name": "stderr",
     "output_type": "stream",
     "text": [
      " 77%|███████▋  | 576/750 [08:15<01:45,  1.65it/s]"
     ]
    },
    {
     "name": "stdout",
     "output_type": "stream",
     "text": [
      "episode:  575 score: -115.0 average score -114.4\n"
     ]
    },
    {
     "name": "stderr",
     "output_type": "stream",
     "text": [
      " 80%|████████  | 601/750 [08:31<01:41,  1.47it/s]"
     ]
    },
    {
     "name": "stdout",
     "output_type": "stream",
     "text": [
      "episode:  600 score: -123.0 average score -121.1\n"
     ]
    },
    {
     "name": "stderr",
     "output_type": "stream",
     "text": [
      " 83%|████████▎ | 626/750 [08:46<01:01,  2.01it/s]"
     ]
    },
    {
     "name": "stdout",
     "output_type": "stream",
     "text": [
      "episode:  625 score: -87.0 average score -113.8\n"
     ]
    },
    {
     "name": "stderr",
     "output_type": "stream",
     "text": [
      " 87%|████████▋ | 651/750 [09:00<00:53,  1.85it/s]"
     ]
    },
    {
     "name": "stdout",
     "output_type": "stream",
     "text": [
      "episode:  650 score: -111.0 average score -113.0\n"
     ]
    },
    {
     "name": "stderr",
     "output_type": "stream",
     "text": [
      " 90%|█████████ | 676/750 [09:14<00:42,  1.75it/s]"
     ]
    },
    {
     "name": "stdout",
     "output_type": "stream",
     "text": [
      "episode:  675 score: -86.0 average score -108.1\n"
     ]
    },
    {
     "name": "stderr",
     "output_type": "stream",
     "text": [
      " 93%|█████████▎| 701/750 [09:31<00:26,  1.83it/s]"
     ]
    },
    {
     "name": "stdout",
     "output_type": "stream",
     "text": [
      "episode:  700 score: -108.0 average score -121.9\n"
     ]
    },
    {
     "name": "stderr",
     "output_type": "stream",
     "text": [
      " 97%|█████████▋| 726/750 [09:44<00:12,  1.95it/s]"
     ]
    },
    {
     "name": "stdout",
     "output_type": "stream",
     "text": [
      "episode:  725 score: -103.0 average score -109.1\n"
     ]
    },
    {
     "name": "stderr",
     "output_type": "stream",
     "text": [
      "100%|██████████| 750/750 [10:00<00:00,  1.25it/s]\n"
     ]
    },
    {
     "name": "stdout",
     "output_type": "stream",
     "text": [
      "[19 15]\n"
     ]
    },
    {
     "name": "stderr",
     "output_type": "stream",
     "text": [
      "  0%|          | 1/750 [00:04<1:02:21,  4.99s/it]"
     ]
    },
    {
     "name": "stdout",
     "output_type": "stream",
     "text": [
      "episode:  0 score: -1201.0 average score -1201.0\n"
     ]
    },
    {
     "name": "stderr",
     "output_type": "stream",
     "text": [
      "  3%|▎         | 26/750 [02:35<1:11:38,  5.94s/it]"
     ]
    },
    {
     "name": "stdout",
     "output_type": "stream",
     "text": [
      "episode:  25 score: -1201.0 average score -1201.0\n"
     ]
    },
    {
     "name": "stderr",
     "output_type": "stream",
     "text": [
      "  7%|▋         | 51/750 [03:26<14:53,  1.28s/it]  "
     ]
    },
    {
     "name": "stdout",
     "output_type": "stream",
     "text": [
      "episode:  50 score: -131.0 average score -390.3\n"
     ]
    },
    {
     "name": "stderr",
     "output_type": "stream",
     "text": [
      " 10%|█         | 76/750 [03:45<07:57,  1.41it/s]"
     ]
    },
    {
     "name": "stdout",
     "output_type": "stream",
     "text": [
      "episode:  75 score: -195.0 average score -146.4\n"
     ]
    },
    {
     "name": "stderr",
     "output_type": "stream",
     "text": [
      " 13%|█▎        | 101/750 [04:00<06:29,  1.66it/s]"
     ]
    },
    {
     "name": "stdout",
     "output_type": "stream",
     "text": [
      "episode:  100 score: -112.0 average score -120.9\n"
     ]
    },
    {
     "name": "stderr",
     "output_type": "stream",
     "text": [
      " 17%|█▋        | 126/750 [04:16<07:31,  1.38it/s]"
     ]
    },
    {
     "name": "stdout",
     "output_type": "stream",
     "text": [
      "episode:  125 score: -115.0 average score -121.4\n"
     ]
    },
    {
     "name": "stderr",
     "output_type": "stream",
     "text": [
      " 20%|██        | 151/750 [04:32<06:40,  1.49it/s]"
     ]
    },
    {
     "name": "stdout",
     "output_type": "stream",
     "text": [
      "episode:  150 score: -159.0 average score -121.8\n"
     ]
    },
    {
     "name": "stderr",
     "output_type": "stream",
     "text": [
      " 23%|██▎       | 176/750 [04:48<07:29,  1.28it/s]"
     ]
    },
    {
     "name": "stdout",
     "output_type": "stream",
     "text": [
      "episode:  175 score: -165.0 average score -130.3\n"
     ]
    },
    {
     "name": "stderr",
     "output_type": "stream",
     "text": [
      " 27%|██▋       | 201/750 [05:05<07:31,  1.22it/s]"
     ]
    },
    {
     "name": "stdout",
     "output_type": "stream",
     "text": [
      "episode:  200 score: -160.0 average score -126.7\n"
     ]
    },
    {
     "name": "stderr",
     "output_type": "stream",
     "text": [
      " 30%|███       | 226/750 [05:20<05:08,  1.70it/s]"
     ]
    },
    {
     "name": "stdout",
     "output_type": "stream",
     "text": [
      "episode:  225 score: -123.0 average score -118.8\n"
     ]
    },
    {
     "name": "stderr",
     "output_type": "stream",
     "text": [
      " 33%|███▎      | 251/750 [05:37<04:31,  1.84it/s]"
     ]
    },
    {
     "name": "stdout",
     "output_type": "stream",
     "text": [
      "episode:  250 score: -96.0 average score -127.2\n"
     ]
    },
    {
     "name": "stderr",
     "output_type": "stream",
     "text": [
      " 37%|███▋      | 276/750 [05:53<05:58,  1.32it/s]"
     ]
    },
    {
     "name": "stdout",
     "output_type": "stream",
     "text": [
      "episode:  275 score: -137.0 average score -125.2\n"
     ]
    },
    {
     "name": "stderr",
     "output_type": "stream",
     "text": [
      " 40%|████      | 301/750 [06:09<04:29,  1.67it/s]"
     ]
    },
    {
     "name": "stdout",
     "output_type": "stream",
     "text": [
      "episode:  300 score: -156.0 average score -124.9\n"
     ]
    },
    {
     "name": "stderr",
     "output_type": "stream",
     "text": [
      " 43%|████▎     | 326/750 [06:24<03:42,  1.90it/s]"
     ]
    },
    {
     "name": "stdout",
     "output_type": "stream",
     "text": [
      "episode:  325 score: -107.0 average score -118.7\n"
     ]
    },
    {
     "name": "stderr",
     "output_type": "stream",
     "text": [
      " 47%|████▋     | 351/750 [06:39<03:37,  1.84it/s]"
     ]
    },
    {
     "name": "stdout",
     "output_type": "stream",
     "text": [
      "episode:  350 score: -115.0 average score -121.1\n"
     ]
    },
    {
     "name": "stderr",
     "output_type": "stream",
     "text": [
      " 50%|█████     | 376/750 [06:55<04:22,  1.42it/s]"
     ]
    },
    {
     "name": "stdout",
     "output_type": "stream",
     "text": [
      "episode:  375 score: -179.0 average score -115.2\n"
     ]
    },
    {
     "name": "stderr",
     "output_type": "stream",
     "text": [
      " 53%|█████▎    | 401/750 [07:12<04:15,  1.37it/s]"
     ]
    },
    {
     "name": "stdout",
     "output_type": "stream",
     "text": [
      "episode:  400 score: -160.0 average score -129.9\n"
     ]
    },
    {
     "name": "stderr",
     "output_type": "stream",
     "text": [
      " 57%|█████▋    | 426/750 [07:27<03:34,  1.51it/s]"
     ]
    },
    {
     "name": "stdout",
     "output_type": "stream",
     "text": [
      "episode:  425 score: -124.0 average score -123.8\n"
     ]
    },
    {
     "name": "stderr",
     "output_type": "stream",
     "text": [
      " 60%|██████    | 451/750 [07:44<02:36,  1.91it/s]"
     ]
    },
    {
     "name": "stdout",
     "output_type": "stream",
     "text": [
      "episode:  450 score: -88.0 average score -119.4\n"
     ]
    },
    {
     "name": "stderr",
     "output_type": "stream",
     "text": [
      " 63%|██████▎   | 476/750 [07:58<02:17,  1.99it/s]"
     ]
    },
    {
     "name": "stdout",
     "output_type": "stream",
     "text": [
      "episode:  475 score: -85.0 average score -118.9\n"
     ]
    },
    {
     "name": "stderr",
     "output_type": "stream",
     "text": [
      " 67%|██████▋   | 501/750 [08:11<02:01,  2.05it/s]"
     ]
    },
    {
     "name": "stdout",
     "output_type": "stream",
     "text": [
      "episode:  500 score: -107.0 average score -104.1\n"
     ]
    },
    {
     "name": "stderr",
     "output_type": "stream",
     "text": [
      " 70%|███████   | 526/750 [08:27<02:58,  1.25it/s]"
     ]
    },
    {
     "name": "stdout",
     "output_type": "stream",
     "text": [
      "episode:  525 score: -118.0 average score -123.0\n"
     ]
    },
    {
     "name": "stderr",
     "output_type": "stream",
     "text": [
      " 73%|███████▎  | 551/750 [08:46<02:07,  1.56it/s]"
     ]
    },
    {
     "name": "stdout",
     "output_type": "stream",
     "text": [
      "episode:  550 score: -89.0 average score -143.0\n"
     ]
    },
    {
     "name": "stderr",
     "output_type": "stream",
     "text": [
      " 77%|███████▋  | 576/750 [09:01<02:06,  1.38it/s]"
     ]
    },
    {
     "name": "stdout",
     "output_type": "stream",
     "text": [
      "episode:  575 score: -140.0 average score -120.9\n"
     ]
    },
    {
     "name": "stderr",
     "output_type": "stream",
     "text": [
      " 80%|████████  | 601/750 [09:16<01:35,  1.57it/s]"
     ]
    },
    {
     "name": "stdout",
     "output_type": "stream",
     "text": [
      "episode:  600 score: -92.0 average score -120.0\n"
     ]
    },
    {
     "name": "stderr",
     "output_type": "stream",
     "text": [
      " 83%|████████▎ | 626/750 [09:30<01:14,  1.67it/s]"
     ]
    },
    {
     "name": "stdout",
     "output_type": "stream",
     "text": [
      "episode:  625 score: -122.0 average score -114.1\n"
     ]
    },
    {
     "name": "stderr",
     "output_type": "stream",
     "text": [
      " 87%|████████▋ | 651/750 [09:44<00:57,  1.73it/s]"
     ]
    },
    {
     "name": "stdout",
     "output_type": "stream",
     "text": [
      "episode:  650 score: -107.0 average score -113.3\n"
     ]
    },
    {
     "name": "stderr",
     "output_type": "stream",
     "text": [
      " 90%|█████████ | 676/750 [10:00<00:49,  1.48it/s]"
     ]
    },
    {
     "name": "stdout",
     "output_type": "stream",
     "text": [
      "episode:  675 score: -89.0 average score -113.4\n"
     ]
    },
    {
     "name": "stderr",
     "output_type": "stream",
     "text": [
      " 93%|█████████▎| 701/750 [10:17<00:41,  1.19it/s]"
     ]
    },
    {
     "name": "stdout",
     "output_type": "stream",
     "text": [
      "episode:  700 score: -171.0 average score -128.6\n"
     ]
    },
    {
     "name": "stderr",
     "output_type": "stream",
     "text": [
      " 97%|█████████▋| 726/750 [10:32<00:13,  1.79it/s]"
     ]
    },
    {
     "name": "stdout",
     "output_type": "stream",
     "text": [
      "episode:  725 score: -126.0 average score -123.3\n"
     ]
    },
    {
     "name": "stderr",
     "output_type": "stream",
     "text": [
      "100%|██████████| 750/750 [10:47<00:00,  1.16it/s]\n"
     ]
    },
    {
     "name": "stdout",
     "output_type": "stream",
     "text": [
      "[19 15]\n"
     ]
    },
    {
     "name": "stderr",
     "output_type": "stream",
     "text": [
      "  0%|          | 1/750 [00:05<1:11:54,  5.76s/it]"
     ]
    },
    {
     "name": "stdout",
     "output_type": "stream",
     "text": [
      "episode:  0 score: -1201.0 average score -1201.0\n"
     ]
    },
    {
     "name": "stderr",
     "output_type": "stream",
     "text": [
      "  3%|▎         | 26/750 [01:03<16:11,  1.34s/it] "
     ]
    },
    {
     "name": "stdout",
     "output_type": "stream",
     "text": [
      "episode:  25 score: -262.0 average score -453.8\n"
     ]
    },
    {
     "name": "stderr",
     "output_type": "stream",
     "text": [
      "  7%|▋         | 51/750 [01:24<07:57,  1.46it/s]"
     ]
    },
    {
     "name": "stdout",
     "output_type": "stream",
     "text": [
      "episode:  50 score: -145.0 average score -166.5\n"
     ]
    },
    {
     "name": "stderr",
     "output_type": "stream",
     "text": [
      " 10%|█         | 76/750 [01:43<07:48,  1.44it/s]"
     ]
    },
    {
     "name": "stdout",
     "output_type": "stream",
     "text": [
      "episode:  75 score: -106.0 average score -154.1\n"
     ]
    },
    {
     "name": "stderr",
     "output_type": "stream",
     "text": [
      " 13%|█▎        | 101/750 [02:05<08:34,  1.26it/s]"
     ]
    },
    {
     "name": "stdout",
     "output_type": "stream",
     "text": [
      "episode:  100 score: -150.0 average score -163.5\n"
     ]
    },
    {
     "name": "stderr",
     "output_type": "stream",
     "text": [
      " 17%|█▋        | 126/750 [02:24<07:10,  1.45it/s]"
     ]
    },
    {
     "name": "stdout",
     "output_type": "stream",
     "text": [
      "episode:  125 score: -164.0 average score -158.6\n"
     ]
    },
    {
     "name": "stderr",
     "output_type": "stream",
     "text": [
      " 20%|██        | 151/750 [02:44<08:16,  1.21it/s]"
     ]
    },
    {
     "name": "stdout",
     "output_type": "stream",
     "text": [
      "episode:  150 score: -133.0 average score -142.9\n"
     ]
    },
    {
     "name": "stderr",
     "output_type": "stream",
     "text": [
      " 23%|██▎       | 176/750 [03:00<07:01,  1.36it/s]"
     ]
    },
    {
     "name": "stdout",
     "output_type": "stream",
     "text": [
      "episode:  175 score: -138.0 average score -134.0\n"
     ]
    },
    {
     "name": "stderr",
     "output_type": "stream",
     "text": [
      " 27%|██▋       | 201/750 [03:17<05:56,  1.54it/s]"
     ]
    },
    {
     "name": "stdout",
     "output_type": "stream",
     "text": [
      "episode:  200 score: -149.0 average score -129.3\n"
     ]
    },
    {
     "name": "stderr",
     "output_type": "stream",
     "text": [
      " 30%|███       | 226/750 [03:36<08:25,  1.04it/s]"
     ]
    },
    {
     "name": "stdout",
     "output_type": "stream",
     "text": [
      "episode:  225 score: -190.0 average score -141.7\n"
     ]
    },
    {
     "name": "stderr",
     "output_type": "stream",
     "text": [
      " 33%|███▎      | 251/750 [03:54<05:48,  1.43it/s]"
     ]
    },
    {
     "name": "stdout",
     "output_type": "stream",
     "text": [
      "episode:  250 score: -156.0 average score -144.6\n"
     ]
    },
    {
     "name": "stderr",
     "output_type": "stream",
     "text": [
      " 37%|███▋      | 276/750 [04:11<07:27,  1.06it/s]"
     ]
    },
    {
     "name": "stdout",
     "output_type": "stream",
     "text": [
      "episode:  275 score: -252.0 average score -135.6\n"
     ]
    },
    {
     "name": "stderr",
     "output_type": "stream",
     "text": [
      " 40%|████      | 301/750 [04:30<04:54,  1.52it/s]"
     ]
    },
    {
     "name": "stdout",
     "output_type": "stream",
     "text": [
      "episode:  300 score: -152.0 average score -134.6\n"
     ]
    },
    {
     "name": "stderr",
     "output_type": "stream",
     "text": [
      " 43%|████▎     | 326/750 [04:48<05:56,  1.19it/s]"
     ]
    },
    {
     "name": "stdout",
     "output_type": "stream",
     "text": [
      "episode:  325 score: -188.0 average score -140.0\n"
     ]
    },
    {
     "name": "stderr",
     "output_type": "stream",
     "text": [
      " 47%|████▋     | 351/750 [05:03<04:11,  1.59it/s]"
     ]
    },
    {
     "name": "stdout",
     "output_type": "stream",
     "text": [
      "episode:  350 score: -109.0 average score -117.0\n"
     ]
    },
    {
     "name": "stderr",
     "output_type": "stream",
     "text": [
      " 50%|█████     | 376/750 [05:20<03:24,  1.83it/s]"
     ]
    },
    {
     "name": "stdout",
     "output_type": "stream",
     "text": [
      "episode:  375 score: -109.0 average score -117.6\n"
     ]
    },
    {
     "name": "stderr",
     "output_type": "stream",
     "text": [
      " 53%|█████▎    | 401/750 [05:35<03:02,  1.91it/s]"
     ]
    },
    {
     "name": "stdout",
     "output_type": "stream",
     "text": [
      "episode:  400 score: -84.0 average score -120.6\n"
     ]
    },
    {
     "name": "stderr",
     "output_type": "stream",
     "text": [
      " 57%|█████▋    | 426/750 [05:50<02:52,  1.88it/s]"
     ]
    },
    {
     "name": "stdout",
     "output_type": "stream",
     "text": [
      "episode:  425 score: -90.0 average score -114.7\n"
     ]
    },
    {
     "name": "stderr",
     "output_type": "stream",
     "text": [
      " 60%|██████    | 451/750 [06:07<03:15,  1.53it/s]"
     ]
    },
    {
     "name": "stdout",
     "output_type": "stream",
     "text": [
      "episode:  450 score: -108.0 average score -122.8\n"
     ]
    },
    {
     "name": "stderr",
     "output_type": "stream",
     "text": [
      " 63%|██████▎   | 476/750 [06:24<03:10,  1.44it/s]"
     ]
    },
    {
     "name": "stdout",
     "output_type": "stream",
     "text": [
      "episode:  475 score: -152.0 average score -135.6\n"
     ]
    },
    {
     "name": "stderr",
     "output_type": "stream",
     "text": [
      " 67%|██████▋   | 501/750 [06:40<02:29,  1.66it/s]"
     ]
    },
    {
     "name": "stdout",
     "output_type": "stream",
     "text": [
      "episode:  500 score: -132.0 average score -125.3\n"
     ]
    },
    {
     "name": "stderr",
     "output_type": "stream",
     "text": [
      " 70%|███████   | 526/750 [06:57<02:24,  1.55it/s]"
     ]
    },
    {
     "name": "stdout",
     "output_type": "stream",
     "text": [
      "episode:  525 score: -143.0 average score -116.9\n"
     ]
    },
    {
     "name": "stderr",
     "output_type": "stream",
     "text": [
      " 73%|███████▎  | 551/750 [07:11<01:43,  1.93it/s]"
     ]
    },
    {
     "name": "stdout",
     "output_type": "stream",
     "text": [
      "episode:  550 score: -97.0 average score -107.0\n"
     ]
    },
    {
     "name": "stderr",
     "output_type": "stream",
     "text": [
      " 77%|███████▋  | 576/750 [07:24<01:44,  1.67it/s]"
     ]
    },
    {
     "name": "stdout",
     "output_type": "stream",
     "text": [
      "episode:  575 score: -105.0 average score -108.4\n"
     ]
    },
    {
     "name": "stderr",
     "output_type": "stream",
     "text": [
      " 80%|████████  | 601/750 [07:42<02:43,  1.10s/it]"
     ]
    },
    {
     "name": "stdout",
     "output_type": "stream",
     "text": [
      "episode:  600 score: -211.0 average score -130.2\n"
     ]
    },
    {
     "name": "stderr",
     "output_type": "stream",
     "text": [
      " 83%|████████▎ | 626/750 [07:59<01:13,  1.68it/s]"
     ]
    },
    {
     "name": "stdout",
     "output_type": "stream",
     "text": [
      "episode:  625 score: -106.0 average score -130.2\n"
     ]
    },
    {
     "name": "stderr",
     "output_type": "stream",
     "text": [
      " 87%|████████▋ | 651/750 [08:14<00:55,  1.78it/s]"
     ]
    },
    {
     "name": "stdout",
     "output_type": "stream",
     "text": [
      "episode:  650 score: -111.0 average score -119.8\n"
     ]
    },
    {
     "name": "stderr",
     "output_type": "stream",
     "text": [
      " 90%|█████████ | 676/750 [08:29<00:48,  1.52it/s]"
     ]
    },
    {
     "name": "stdout",
     "output_type": "stream",
     "text": [
      "episode:  675 score: -111.0 average score -105.6\n"
     ]
    },
    {
     "name": "stderr",
     "output_type": "stream",
     "text": [
      " 93%|█████████▎| 701/750 [08:45<00:28,  1.70it/s]"
     ]
    },
    {
     "name": "stdout",
     "output_type": "stream",
     "text": [
      "episode:  700 score: -109.0 average score -119.6\n"
     ]
    },
    {
     "name": "stderr",
     "output_type": "stream",
     "text": [
      " 97%|█████████▋| 726/750 [08:58<00:13,  1.83it/s]"
     ]
    },
    {
     "name": "stdout",
     "output_type": "stream",
     "text": [
      "episode:  725 score: -114.0 average score -104.7\n"
     ]
    },
    {
     "name": "stderr",
     "output_type": "stream",
     "text": [
      "100%|██████████| 750/750 [09:15<00:00,  1.35it/s]\n"
     ]
    },
    {
     "name": "stdout",
     "output_type": "stream",
     "text": [
      "[19 15]\n"
     ]
    },
    {
     "name": "stderr",
     "output_type": "stream",
     "text": [
      "  0%|          | 1/750 [00:06<1:15:31,  6.05s/it]"
     ]
    },
    {
     "name": "stdout",
     "output_type": "stream",
     "text": [
      "episode:  0 score: -1201.0 average score -1201.0\n"
     ]
    },
    {
     "name": "stderr",
     "output_type": "stream",
     "text": [
      "  3%|▎         | 26/750 [02:41<1:18:25,  6.50s/it]"
     ]
    },
    {
     "name": "stdout",
     "output_type": "stream",
     "text": [
      "episode:  25 score: -1201.0 average score -1201.0\n"
     ]
    },
    {
     "name": "stderr",
     "output_type": "stream",
     "text": [
      "  7%|▋         | 51/750 [03:31<11:16,  1.03it/s]  "
     ]
    },
    {
     "name": "stdout",
     "output_type": "stream",
     "text": [
      "episode:  50 score: -186.0 average score -389.2\n"
     ]
    },
    {
     "name": "stderr",
     "output_type": "stream",
     "text": [
      " 10%|█         | 76/750 [03:50<07:30,  1.50it/s]"
     ]
    },
    {
     "name": "stdout",
     "output_type": "stream",
     "text": [
      "episode:  75 score: -173.0 average score -143.4\n"
     ]
    },
    {
     "name": "stderr",
     "output_type": "stream",
     "text": [
      " 13%|█▎        | 101/750 [04:07<06:38,  1.63it/s]"
     ]
    },
    {
     "name": "stdout",
     "output_type": "stream",
     "text": [
      "episode:  100 score: -111.0 average score -124.4\n"
     ]
    },
    {
     "name": "stderr",
     "output_type": "stream",
     "text": [
      " 17%|█▋        | 126/750 [04:21<06:48,  1.53it/s]"
     ]
    },
    {
     "name": "stdout",
     "output_type": "stream",
     "text": [
      "episode:  125 score: -172.0 average score -116.4\n"
     ]
    },
    {
     "name": "stderr",
     "output_type": "stream",
     "text": [
      " 20%|██        | 151/750 [04:38<06:48,  1.47it/s]"
     ]
    },
    {
     "name": "stdout",
     "output_type": "stream",
     "text": [
      "episode:  150 score: -107.0 average score -125.4\n"
     ]
    },
    {
     "name": "stderr",
     "output_type": "stream",
     "text": [
      " 23%|██▎       | 176/750 [04:55<09:13,  1.04it/s]"
     ]
    },
    {
     "name": "stdout",
     "output_type": "stream",
     "text": [
      "episode:  175 score: -143.0 average score -129.7\n"
     ]
    },
    {
     "name": "stderr",
     "output_type": "stream",
     "text": [
      " 27%|██▋       | 201/750 [05:12<05:31,  1.66it/s]"
     ]
    },
    {
     "name": "stdout",
     "output_type": "stream",
     "text": [
      "episode:  200 score: -95.0 average score -128.8\n"
     ]
    },
    {
     "name": "stderr",
     "output_type": "stream",
     "text": [
      " 30%|███       | 226/750 [05:27<04:55,  1.77it/s]"
     ]
    },
    {
     "name": "stdout",
     "output_type": "stream",
     "text": [
      "episode:  225 score: -105.0 average score -109.8\n"
     ]
    },
    {
     "name": "stderr",
     "output_type": "stream",
     "text": [
      " 33%|███▎      | 251/750 [05:41<04:49,  1.72it/s]"
     ]
    },
    {
     "name": "stdout",
     "output_type": "stream",
     "text": [
      "episode:  250 score: -105.0 average score -103.5\n"
     ]
    },
    {
     "name": "stderr",
     "output_type": "stream",
     "text": [
      " 37%|███▋      | 276/750 [05:58<05:08,  1.54it/s]"
     ]
    },
    {
     "name": "stdout",
     "output_type": "stream",
     "text": [
      "episode:  275 score: -121.0 average score -119.6\n"
     ]
    },
    {
     "name": "stderr",
     "output_type": "stream",
     "text": [
      " 40%|████      | 301/750 [06:16<05:53,  1.27it/s]"
     ]
    },
    {
     "name": "stdout",
     "output_type": "stream",
     "text": [
      "episode:  300 score: -146.0 average score -143.2\n"
     ]
    },
    {
     "name": "stderr",
     "output_type": "stream",
     "text": [
      " 43%|████▎     | 326/750 [06:33<04:24,  1.60it/s]"
     ]
    },
    {
     "name": "stdout",
     "output_type": "stream",
     "text": [
      "episode:  325 score: -125.0 average score -129.6\n"
     ]
    },
    {
     "name": "stderr",
     "output_type": "stream",
     "text": [
      " 47%|████▋     | 351/750 [06:48<03:21,  1.98it/s]"
     ]
    },
    {
     "name": "stdout",
     "output_type": "stream",
     "text": [
      "episode:  350 score: -90.0 average score -120.4\n"
     ]
    },
    {
     "name": "stderr",
     "output_type": "stream",
     "text": [
      " 50%|█████     | 376/750 [07:03<03:45,  1.66it/s]"
     ]
    },
    {
     "name": "stdout",
     "output_type": "stream",
     "text": [
      "episode:  375 score: -105.0 average score -114.4\n"
     ]
    },
    {
     "name": "stderr",
     "output_type": "stream",
     "text": [
      " 53%|█████▎    | 401/750 [07:19<03:43,  1.56it/s]"
     ]
    },
    {
     "name": "stdout",
     "output_type": "stream",
     "text": [
      "episode:  400 score: -110.0 average score -112.2\n"
     ]
    },
    {
     "name": "stderr",
     "output_type": "stream",
     "text": [
      " 57%|█████▋    | 426/750 [07:33<03:05,  1.74it/s]"
     ]
    },
    {
     "name": "stdout",
     "output_type": "stream",
     "text": [
      "episode:  425 score: -108.0 average score -110.1\n"
     ]
    },
    {
     "name": "stderr",
     "output_type": "stream",
     "text": [
      " 60%|██████    | 451/750 [07:48<03:19,  1.50it/s]"
     ]
    },
    {
     "name": "stdout",
     "output_type": "stream",
     "text": [
      "episode:  450 score: -141.0 average score -120.2\n"
     ]
    },
    {
     "name": "stderr",
     "output_type": "stream",
     "text": [
      " 63%|██████▎   | 476/750 [08:03<03:19,  1.37it/s]"
     ]
    },
    {
     "name": "stdout",
     "output_type": "stream",
     "text": [
      "episode:  475 score: -120.0 average score -111.5\n"
     ]
    },
    {
     "name": "stderr",
     "output_type": "stream",
     "text": [
      " 67%|██████▋   | 501/750 [08:19<02:24,  1.72it/s]"
     ]
    },
    {
     "name": "stdout",
     "output_type": "stream",
     "text": [
      "episode:  500 score: -123.0 average score -119.7\n"
     ]
    },
    {
     "name": "stderr",
     "output_type": "stream",
     "text": [
      " 70%|███████   | 526/750 [08:34<02:18,  1.62it/s]"
     ]
    },
    {
     "name": "stdout",
     "output_type": "stream",
     "text": [
      "episode:  525 score: -115.0 average score -115.2\n"
     ]
    },
    {
     "name": "stderr",
     "output_type": "stream",
     "text": [
      " 73%|███████▎  | 551/750 [08:51<02:03,  1.61it/s]"
     ]
    },
    {
     "name": "stdout",
     "output_type": "stream",
     "text": [
      "episode:  550 score: -130.0 average score -127.8\n"
     ]
    },
    {
     "name": "stderr",
     "output_type": "stream",
     "text": [
      " 77%|███████▋  | 576/750 [09:06<01:32,  1.87it/s]"
     ]
    },
    {
     "name": "stdout",
     "output_type": "stream",
     "text": [
      "episode:  575 score: -94.0 average score -114.9\n"
     ]
    },
    {
     "name": "stderr",
     "output_type": "stream",
     "text": [
      " 80%|████████  | 601/750 [09:20<01:26,  1.73it/s]"
     ]
    },
    {
     "name": "stdout",
     "output_type": "stream",
     "text": [
      "episode:  600 score: -99.0 average score -109.0\n"
     ]
    },
    {
     "name": "stderr",
     "output_type": "stream",
     "text": [
      " 83%|████████▎ | 626/750 [09:35<01:10,  1.77it/s]"
     ]
    },
    {
     "name": "stdout",
     "output_type": "stream",
     "text": [
      "episode:  625 score: -91.0 average score -102.8\n"
     ]
    },
    {
     "name": "stderr",
     "output_type": "stream",
     "text": [
      " 87%|████████▋ | 651/750 [09:49<00:56,  1.76it/s]"
     ]
    },
    {
     "name": "stdout",
     "output_type": "stream",
     "text": [
      "episode:  650 score: -96.0 average score -110.2\n"
     ]
    },
    {
     "name": "stderr",
     "output_type": "stream",
     "text": [
      " 90%|█████████ | 676/750 [10:04<00:44,  1.65it/s]"
     ]
    },
    {
     "name": "stdout",
     "output_type": "stream",
     "text": [
      "episode:  675 score: -155.0 average score -119.4\n"
     ]
    },
    {
     "name": "stderr",
     "output_type": "stream",
     "text": [
      " 93%|█████████▎| 701/750 [10:21<00:37,  1.31it/s]"
     ]
    },
    {
     "name": "stdout",
     "output_type": "stream",
     "text": [
      "episode:  700 score: -125.0 average score -114.0\n"
     ]
    },
    {
     "name": "stderr",
     "output_type": "stream",
     "text": [
      " 97%|█████████▋| 726/750 [10:36<00:14,  1.66it/s]"
     ]
    },
    {
     "name": "stdout",
     "output_type": "stream",
     "text": [
      "episode:  725 score: -134.0 average score -117.7\n"
     ]
    },
    {
     "name": "stderr",
     "output_type": "stream",
     "text": [
      "100%|██████████| 750/750 [10:50<00:00,  1.15it/s]"
     ]
    },
    {
     "name": "stdout",
     "output_type": "stream",
     "text": [
      "Mean reward: -117.60800000000002\n",
      "Std reward: 10.125718542404778\n",
      "-----------------------------------\n"
     ]
    },
    {
     "name": "stderr",
     "output_type": "stream",
     "text": [
      "\n"
     ]
    }
   ],
   "source": [
    "episodes_default = 750\n",
    "\n",
    "alpha_default = 0.1 # variar de 0.1 a 0.9 com 10 pontos\n",
    "gamma_default = 0.99\n",
    "epsilon_default = 1.0\n",
    "epsilon_min_default = 0.01 # variar de 0.001 a 0.4 com 10 pontos\n",
    "epsilon_decay_default = 0.999\n",
    "\n",
    "\n",
    "# alpha_default = 0.4 # variar de 0.1 a 0.9 com 10 pontos\n",
    "# gamma_default = 0.99\n",
    "# epsilon_default = 1.0\n",
    "# epsilon_min_default = 0.01 # variar de 0.001 a 0.4 com 10 pontos\n",
    "# epsilon_decay_default = 0.999\n",
    "\n",
    "# alpha_default = 0.9 # variar de 0.1 a 0.9 com 10 pontos\n",
    "# gamma_default = 0.9\n",
    "# epsilon_default = 1.0\n",
    "# epsilon_min_default = 0.001 # variar de 0.001 a 0.4 com 10 pontos\n",
    "# epsilon_decay_default = 2 / episodes_default\n",
    "\n",
    "\n",
    "n_batches = 5\n",
    "n_episodes = episodes_default\n",
    "window = 25\n",
    "\n",
    "results_alg = {}\n",
    "for algorithm in ['qlearning', 'deepqlearning']:\n",
    "    print(f\"Training with algorithm = {algorithm}\")\n",
    "    rewards_alg = []\n",
    "    save = False\n",
    "    for _ in range(n_batches):\n",
    "        if _ == n_batches - 1:\n",
    "            save = True\n",
    "        rewards_alg.append(train(alpha=alpha_default, \n",
    "                                 gamma=gamma_default, \n",
    "                                 epsilon=epsilon_default, \n",
    "                                 epsilon_min=epsilon_min_default, \n",
    "                                 epsilon_decay=epsilon_decay_default, \n",
    "                                 episodes=n_episodes,\n",
    "                                 algorithm=algorithm,\n",
    "                                 save=save,\n",
    "                                 verbose=True,\n",
    "                                 window=window,\n",
    "                                 env=env))\n",
    "    rewards_alg_mean = np.mean(rewards_alg, axis=0)\n",
    "    rewards_alg_std = np.std(rewards_alg, axis=0)\n",
    "\n",
    "    print(f\"Mean reward: {rewards_alg_mean[-1]}\")\n",
    "    print(f\"Std reward: {rewards_alg_std[-1]}\")\n",
    "    print(\"-----------------------------------\")\n",
    "    results_alg[algorithm] = (rewards_alg_mean, rewards_alg_std)"
   ]
  },
  {
   "cell_type": "code",
   "execution_count": 28,
   "metadata": {},
   "outputs": [
    {
     "data": {
      "image/png": "[encoded data removed]",
      "text/plain": [
       "<Figure size 800x500 with 1 Axes>"
      ]
     },
     "metadata": {},
     "output_type": "display_data"
    }
   ],
   "source": [
    "import seaborn as sns\n",
    "import matplotlib.pyplot as plt\n",
    "\n",
    "# Criar figura\n",
    "plt.figure(figsize=(8, 5))\n",
    "\n",
    "for alg in ['qlearning', 'deepqlearning']:#, 'sarsa']:\n",
    "    rewards_alg_mean, rewards_alg_std = results_alg[alg]\n",
    "    rewards_alg_mean = rewards_alg_mean\n",
    "    rewards_alg_std = rewards_alg_std\n",
    "    x_values = np.array(range(len(rewards_alg_mean))) * window\n",
    "    sns.lineplot(x=x_values, y=rewards_alg_mean, label=\"Algoritmo=\" + str(alg))\n",
    "    plt.fill_between(x_values, rewards_alg_mean - rewards_alg_std, rewards_alg_mean + rewards_alg_std, alpha=0.3)\n",
    "\n",
    "# Configurações\n",
    "plt.xlabel(\"Episódios\")\n",
    "plt.ylabel(\"Recompensa Média\")\n",
    "plt.title(r\"Q-Learning x Deep Q-Learning - \" + f\"{env.env.env.spec.name}\")\n",
    "plt.legend()\n",
    "plt.show()"
   ]
  },
  {
   "cell_type": "markdown",
   "metadata": {},
   "source": [
    "## Definição de meta\n",
    "\n",
    "Para o contexto atual de testes, vamos definir nossa meta em -200 pontos. Ou seja, o agente deve ser capaz de atingir uma recompensa média de -200 pontos.\n",
    "\n",
    "## Conclusão parcial (Deep Q-Learning)\n",
    "\n",
    "Para o deep q learning, podemos visualizar que o gráfico de recompensa converge para valores satisfatórios. Além disso, vale comentar também que o tempo de treinamento foi relativamente baixo, se comparado com outros algoritmos (no caso presente, o Q-Learning).\n",
    "\n",
    "## Hiper-parâmetros\n",
    "\n",
    "Para o deep q learning, os hiper-parâmetros foram os seguintes:\n",
    "\n",
    "$\\alpha = 4-e4$\n",
    "\n",
    "$\\gamma = 0.99$\n",
    "\n",
    "$\\epsilon = 1.0$\n",
    "\n",
    "$\\epsilon_{min} = 0.01$\n",
    "\n",
    "$\\epsilon_{decay} = 0.999$\n",
    "\n",
    "## Conclusão parcial (Q-Learning)\n",
    "\n",
    "Para o q learning, podemos visualizar que o gráfico de recompensa tende a estabilizar em um patamar próximo de 200 (que é a meta), porém, ainda não alcança o valor ideal da meta para um tempo de 750 episódios. Além disso, vale comentar também que o tempo de treinamento foi relativamente alto, se comparado com o algoritmo Deep Q Learning.\n",
    "\n",
    "## Hiper-parâmetros\n",
    "\n",
    "Para o q learning, os hiper-parâmetros foram os seguintes:\n",
    "\n",
    "$\\alpha = 0.1$\n",
    "\n",
    "$\\gamma = 0.99$\n",
    "\n",
    "$\\epsilon = 1.0$\n",
    "\n",
    "$\\epsilon_{min} = 0.01$\n",
    "\n",
    "$\\epsilon_{decay} = 0.999$"
   ]
  },
  {
   "cell_type": "markdown",
   "metadata": {},
   "source": [
    "## Inferência"
   ]
  },
  {
   "cell_type": "code",
   "execution_count": 36,
   "metadata": {},
   "outputs": [
    {
     "name": "stdout",
     "output_type": "stream",
     "text": [
      "Q-table carregada de ./saved_models/model_qlearning_MountainCar.npy\n"
     ]
    },
    {
     "name": "stderr",
     "output_type": "stream",
     "text": [
      "100%|██████████| 100/100 [00:00<00:00, 225.80it/s]\n",
      "100%|██████████| 100/100 [00:00<00:00, 216.05it/s]\n",
      "100%|██████████| 100/100 [00:00<00:00, 217.04it/s]\n",
      "100%|██████████| 100/100 [00:00<00:00, 258.14it/s]\n",
      "100%|██████████| 100/100 [00:00<00:00, 249.03it/s]\n",
      "100%|██████████| 5/5 [00:02<00:00,  2.30it/s]\n"
     ]
    }
   ],
   "source": [
    "# 1. Criar o ambiente\n",
    "env = gym.make(env_name)#, render_mode='human')\n",
    "\n",
    "# Load Q table Q-Learning\n",
    "agent_loaded_qlearning = AgentBase(env=env)\n",
    "agent_loaded_qlearning.load(\"./saved_models/model_qlearning_MountainCar.npy\")\n",
    "\n",
    "n_batches = 5\n",
    "\n",
    "all_rewards_qlearning = []\n",
    "num_episodes = 100\n",
    "\n",
    "for idx in tqdm(range(n_batches)):\n",
    "    reward_qlearning = []\n",
    "    for i in tqdm(range(num_episodes)):\n",
    "        state, _ = env.reset()\n",
    "        done = False\n",
    "        score = 0\n",
    "        \n",
    "        while not done:\n",
    "            state_ = agent_loaded_qlearning.transform_state(state)\n",
    "            action = np.argmax(agent_loaded_qlearning.Q[state_[0], state_[1]])\n",
    "            next_state, reward, terminated, truncated, _ = env.step(action)\n",
    "            done = terminated or truncated\n",
    "            score += reward\n",
    "            state = next_state\n",
    "        # print(score)\n",
    "            \n",
    "        reward_qlearning.append(score)\n",
    "    \n",
    "    all_rewards_qlearning.append(reward_qlearning)\n",
    "    env.close()"
   ]
  },
  {
   "cell_type": "code",
   "execution_count": 38,
   "metadata": {},
   "outputs": [
    {
     "data": {
      "image/png": "[encoded data removed]",
      "text/plain": [
       "<Figure size 800x500 with 1 Axes>"
      ]
     },
     "metadata": {},
     "output_type": "display_data"
    }
   ],
   "source": [
    "# Criar figura\n",
    "plt.figure(figsize=(8, 5))\n",
    "\n",
    "results_alg = {\n",
    "    'qlearning': (np.mean(all_rewards_qlearning, axis=0), np.std(all_rewards_qlearning, axis=0))\n",
    "}\n",
    "\n",
    "for alg in ['qlearning']:#, 'sarsa']:\n",
    "    rewards_alg_mean, rewards_alg_std = results_alg[alg]\n",
    "    rewards_alg_mean = rewards_alg_mean[2:]\n",
    "    rewards_alg_std = rewards_alg_std[2:]\n",
    "    x_values = np.array(range(len(rewards_alg_mean))) \n",
    "    sns.lineplot(x=x_values, y=rewards_alg_mean, label=\"Algoritmo=\" + str(alg))\n",
    "    plt.fill_between(x_values, rewards_alg_mean - rewards_alg_std, rewards_alg_mean + rewards_alg_std, alpha=0.3)\n",
    "\n",
    "# Configurações\n",
    "plt.xlabel(\"Episódios\")\n",
    "plt.ylabel(\"Recompensa Média\")\n",
    "plt.title(r\"Q-Learning - \" + f\"{env.env.env.spec.name}\")\n",
    "plt.legend()\n",
    "plt.show()"
   ]
  },
  {
   "cell_type": "code",
   "execution_count": 50,
   "metadata": {},
   "outputs": [
    {
     "data": {
      "text/plain": [
       "NeuralNetwork(\n",
       "  (fc1): Linear(in_features=2, out_features=512, bias=True)\n",
       "  (fc2): Linear(in_features=512, out_features=512, bias=True)\n",
       "  (output): Linear(in_features=512, out_features=3, bias=True)\n",
       "  (relu): ReLU()\n",
       "  (softmax): Softmax(dim=-1)\n",
       ")"
      ]
     },
     "execution_count": 50,
     "metadata": {},
     "output_type": "execute_result"
    }
   ],
   "source": [
    "size_r = 10\n",
    "size_v = 100\n",
    "\n",
    "n_states = (env.observation_space.high - env.observation_space.low)*np.array([size_r, size_v])\n",
    "n_states = np.round(n_states, 0).astype(int) + 1\n",
    "fc1_dim = 512\n",
    "fc2_dim = 512\n",
    "action_size = env.action_space.n\n",
    "policy = NeuralNetwork(fc1_dim=fc1_dim,\n",
    "                        fc2_dim=fc2_dim,\n",
    "                        input_dim=len(n_states),\n",
    "                        output_dim=action_size).to('cuda')\n",
    "\n",
    "policy.load_state_dict(torch.load('./saved_models/model_deepqlearning_MountainCar.pth'))\n",
    "policy.eval()  # Coloca o modelo em modo de avaliação (sem dropout, etc.)"
   ]
  },
  {
   "cell_type": "code",
   "execution_count": 51,
   "metadata": {},
   "outputs": [
    {
     "data": {
      "text/plain": [
       "tensor([[261.2369, 261.9725, 318.0660]], device='cuda:0',\n",
       "       grad_fn=<AddmmBackward0>)"
      ]
     },
     "execution_count": 51,
     "metadata": {},
     "output_type": "execute_result"
    }
   ],
   "source": [
    "policy(torch.Tensor([[1, 2]]).to(\"cuda\"))"
   ]
  },
  {
   "cell_type": "code",
   "execution_count": 54,
   "metadata": {},
   "outputs": [
    {
     "name": "stderr",
     "output_type": "stream",
     "text": [
      "100%|██████████| 100/100 [00:08<00:00, 12.21it/s]\n",
      "100%|██████████| 100/100 [00:08<00:00, 11.27it/s]\n",
      "100%|██████████| 100/100 [00:08<00:00, 11.52it/s]\n",
      "100%|██████████| 100/100 [00:06<00:00, 15.69it/s]\n",
      "100%|██████████| 100/100 [00:09<00:00, 10.50it/s]\n",
      "100%|██████████| 5/5 [00:41<00:00,  8.33s/it]\n"
     ]
    }
   ],
   "source": [
    "# 1. Criar o ambiente\n",
    "env = gym.make(env_name)#, render_mode='human')\n",
    "\n",
    "# Load Q table Q-Learning\n",
    "agent_loaded_deepqlearning = AgentBase(env=env)\n",
    "# agent_loaded_qlearning.load(\"./saved_models/model_qlearning_MountainCar.npy\")\n",
    "\n",
    "n_batches = 5\n",
    "\n",
    "all_rewards_deepqlearning = []\n",
    "num_episodes = 100\n",
    "\n",
    "for idx in tqdm(range(n_batches)):\n",
    "    reward_deepqlearning = []\n",
    "    for i in tqdm(range(num_episodes)):\n",
    "        state, _ = env.reset()\n",
    "        done = False\n",
    "        score = 0\n",
    "        step = 0\n",
    "        while not done:\n",
    "            # state_ = agent_loaded_deepqlearning.transform_state(state)\n",
    "            action = torch.argmax(policy(torch.Tensor(state).to(\"cuda\"))).item()\n",
    "            next_state, reward, terminated, truncated, _ = env.step(action)\n",
    "            done = terminated or (step >= 1_200)\n",
    "            score += reward\n",
    "            state = next_state\n",
    "            step += 1\n",
    "        # print(score)\n",
    "            \n",
    "        reward_deepqlearning.append(score)\n",
    "    \n",
    "    all_rewards_deepqlearning.append(reward_deepqlearning)\n",
    "    env.close()"
   ]
  },
  {
   "cell_type": "code",
   "execution_count": 59,
   "metadata": {},
   "outputs": [
    {
     "data": {
      "image/png": "[encoded data removed]",
      "text/plain": [
       "<Figure size 800x500 with 1 Axes>"
      ]
     },
     "metadata": {},
     "output_type": "display_data"
    }
   ],
   "source": [
    "# Criar figura\n",
    "plt.figure(figsize=(8, 5))\n",
    "\n",
    "results_alg = {\n",
    "    'deepqlearning': (np.mean(all_rewards_deepqlearning, axis=0), np.std(all_rewards_deepqlearning, axis=0)),\n",
    "    'qlearning': (np.mean(all_rewards_qlearning, axis=0), np.std(all_rewards_qlearning, axis=0))\n",
    "    \n",
    "}\n",
    "\n",
    "for alg in ['deepqlearning', 'qlearning']:#, 'sarsa']:\n",
    "    rewards_alg_mean, rewards_alg_std = results_alg[alg]\n",
    "    rewards_alg_mean = rewards_alg_mean[2:]\n",
    "    rewards_alg_std = rewards_alg_std[2:]\n",
    "    x_values = np.array(range(len(rewards_alg_mean))) \n",
    "    sns.lineplot(x=x_values, y=rewards_alg_mean, label=\"Algoritmo=\" + str(alg))\n",
    "    plt.fill_between(x_values, rewards_alg_mean - rewards_alg_std, rewards_alg_mean + rewards_alg_std, alpha=0.3)\n",
    "    # Traçar uma reta vermelha horizontal no valor de -200\n",
    "plt.axhline(y=-200, color='r', linestyle='--', label=\"Objetivo (-200)\")\n",
    "\n",
    "# Configurações\n",
    "plt.xlabel(\"Episódios\")\n",
    "plt.ylabel(\"Recompensa Média\")\n",
    "plt.title(r\"Deep Q-Learning - \" + f\"{env.env.env.spec.name}\")\n",
    "plt.legend()\n",
    "plt.show()"
   ]
  },
  {
   "cell_type": "markdown",
   "metadata": {},
   "source": [
    "## Atividade\n",
    "\n",
    "Para o trabalho presente, alguns critérios foram estabelecidos como sugestões de investigação. Para nos situarmos melhor, vamos elencar todos os pontos respondendo as perguntas:\n",
    "\n",
    "1. Treine o agente usando Q-Learning para o ambiente MountainCar usando os melhores hiperparâmetros encontrados na atividade anterior.\n",
    "\n",
    "> R: O agente foi treinado com os hiperparâmetros $\\alpha = 0.1$, $\\gamma = 0.99$, $\\epsilon = 1.0$, $\\epsilon_{min} = 0.01$ e $\\epsilon_{decay} = 0.999$.\n",
    "\n",
    "2. Execute o treinamento $N$ vezes onde este $N$ precisa ser maior ou igual a 5.\n",
    "\n",
    "> R: O treinamento foi executado 5 vezes.\n",
    "\n",
    "3. Colete todos os dados para criar a curva de aprendizado.\n",
    "\n",
    "> R: Os dados das curvas de aprendizado foram coletados e plotados nos gráficos anteriores.\n",
    "\n",
    "4. Armazene os pesos da Q-table.\n",
    "\n",
    "> R: Os pesos da Q-table foram armazenados no diretório `saved_models/model_qlearning_MountainCar.npy`.\n",
    "\n",
    "\n",
    "5. Implemente o Deep Q-Learning para o ambiente MountainCar.\n",
    "\n",
    "> R: O Deep Q-Learning foi implementado e treinado para o ambiente MountainCar. Os modelos utilizados estão no arquivo `models.py`.\t\n",
    "\n",
    "6. Execute o treinamento $N$ vezes onde este $N$ precisa ser maior ou igual a 5.\n",
    "\n",
    "> R: O treinamento foi executado 5 vezes.\n",
    "\n",
    "7. Encontre os melhores hiperparâmetros para o Deep Q-Learning.\n",
    "\n",
    "> R: Encotramos os melhores hiperparâmetros para o Deep Q-Learning, que são $\\alpha = 4-e4$, $\\gamma = 0.99$, $\\epsilon = 1.0$, $\\epsilon_{min} = 0.01$ e $\\epsilon_{decay} = 0.999$. Para conseguir desempenhos mais precisos e rápidos, será necessário um ajuste fino dos hiperparâmetros, o que pode tornar a procura bastante custosa.\n",
    "\n",
    "8. Colete todos os dados para criar a curva de aprendizado.\n",
    "\n",
    "> R: Os dados das curvas de aprendizado foram coletados e plotados nos gráficos anteriores.\n",
    "\n",
    "9. Armazene os pesos da rede neural.\n",
    "\n",
    "> R: Os pesos da rede neural foram armazenados no diretório `saved_models/model_deepqlearning_MountainCar.pth`.\n",
    "\n",
    "10. Compare os resultados obtidos com o Q-Learning e o Deep Q-Learning usando um plot. Tente deixar claro no plot qual a meta de recompensa acumulada para o ambiente ``MountainCar``.\n",
    "\n",
    "> R: O plot comparativo foi feito e está disponível no gráfico acima. A meta de recompensa acumulada para o ambiente MountainCar é -200 e está registrada na linha vermelha pontilhada.\n",
    "\n",
    "11. Crie outro gráfico que mostra o desempenho de ambos os agentes durante o processo de inferência, ou seja, quando o agente está atuando sem treinamento.\n",
    "\n",
    "> R: O gráfico de desempenho de ambos os agentes durante o processo de inferência foi criado e está disponível no gráfico acima.\n",
    "\n",
    "12. (Extra) Gráfico de desempenho durante o treinamento.\n",
    "\n",
    "> R: Vale ressaltar também o gráfico de treinamento. Nele é possível enxergar o desempenho de ambos os agentes durante o treinamento."
   ]
  }
 ],
 "metadata": {
  "kernelspec": {
   "display_name": "rl",
   "language": "python",
   "name": "python3"
  },
  "language_info": {
   "codemirror_mode": {
    "name": "ipython",
    "version": 3
   },
   "file_extension": ".py",
   "mimetype": "text/x-python",
   "name": "python",
   "nbconvert_exporter": "python",
   "pygments_lexer": "ipython3",
   "version": "3.10.16"
  }
 },
 "nbformat": 4,
 "nbformat_minor": 2
}
